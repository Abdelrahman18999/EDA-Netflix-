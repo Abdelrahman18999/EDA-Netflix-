{
  "nbformat": 4,
  "nbformat_minor": 0,
  "metadata": {
    "colab": {
      "name": "EDA(Netflix)",
      "provenance": [],
      "collapsed_sections": []
    },
    "kernelspec": {
      "name": "python3",
      "display_name": "Python 3"
    },
    "language_info": {
      "name": "python"
    }
  },
  "cells": [
    {
      "cell_type": "markdown",
      "metadata": {
        "id": "LS4MBCZCbKuD"
      },
      "source": [
        "**Prepare your colab PC by using your username and key from kaggle**"
      ]
    },
    {
      "cell_type": "code",
      "metadata": {
        "id": "jkqMBPqwbD44"
      },
      "source": [
        "import os\n",
        "os.environ[\"KAGGLE_USERNAME\"] = \"abdelrahmanabdelhakm\"\n",
        "os.environ[\"KAGGLE_KEY\"] = \"6326562f87927a055cbf9dd460a6a925\""
      ],
      "execution_count": 2,
      "outputs": []
    },
    {
      "cell_type": "markdown",
      "metadata": {
        "id": "_yafoJaRnq1Z"
      },
      "source": [
        "**this is the tool used from kaggle to able you downloading your data**"
      ]
    },
    {
      "cell_type": "code",
      "metadata": {
        "colab": {
          "base_uri": "https://localhost:8080/"
        },
        "id": "UkmuydjFnmoH",
        "outputId": "f69518df-993c-48d5-af7e-9221313f7489"
      },
      "source": [
        "! kaggle datasets download -d shivamb/netflix-shows"
      ],
      "execution_count": 3,
      "outputs": [
        {
          "output_type": "stream",
          "text": [
            "Downloading netflix-shows.zip to /content\n",
            "\r  0% 0.00/1.18M [00:00<?, ?B/s]\n",
            "\r100% 1.18M/1.18M [00:00<00:00, 38.6MB/s]\n"
          ],
          "name": "stdout"
        }
      ]
    },
    {
      "cell_type": "code",
      "metadata": {
        "colab": {
          "base_uri": "https://localhost:8080/"
        },
        "id": "Inn03G8Xn-hW",
        "outputId": "22f9600e-7b37-4ceb-dc9d-737dc6476308"
      },
      "source": [
        "! ls"
      ],
      "execution_count": 4,
      "outputs": [
        {
          "output_type": "stream",
          "text": [
            "netflix-shows.zip  sample_data\n"
          ],
          "name": "stdout"
        }
      ]
    },
    {
      "cell_type": "code",
      "metadata": {
        "colab": {
          "base_uri": "https://localhost:8080/"
        },
        "id": "AUjzwi7ZoECv",
        "outputId": "17197dcc-68ed-4fed-81b3-6e6eaec0d71f"
      },
      "source": [
        "! unzip netflix-shows.zip"
      ],
      "execution_count": 5,
      "outputs": [
        {
          "output_type": "stream",
          "text": [
            "Archive:  netflix-shows.zip\n",
            "  inflating: netflix_titles.csv      \n"
          ],
          "name": "stdout"
        }
      ]
    },
    {
      "cell_type": "code",
      "metadata": {
        "id": "oVTflXkjoHWt"
      },
      "source": [
        "import pandas as pd\n",
        "import numpy as np\n",
        "import matplotlib.pyplot as plt\n",
        "import seaborn as sns\n",
        "%matplotlib inline"
      ],
      "execution_count": 6,
      "outputs": []
    },
    {
      "cell_type": "code",
      "metadata": {
        "colab": {
          "base_uri": "https://localhost:8080/",
          "height": 279
        },
        "id": "s7Pwa5Zno0zn",
        "outputId": "c8c41ebd-2015-4f17-8d99-6783c68325ce"
      },
      "source": [
        "df = pd.read_csv(\"/content/netflix_titles.csv\")\n",
        "df.head()"
      ],
      "execution_count": 7,
      "outputs": [
        {
          "output_type": "execute_result",
          "data": {
            "text/html": [
              "<div>\n",
              "<style scoped>\n",
              "    .dataframe tbody tr th:only-of-type {\n",
              "        vertical-align: middle;\n",
              "    }\n",
              "\n",
              "    .dataframe tbody tr th {\n",
              "        vertical-align: top;\n",
              "    }\n",
              "\n",
              "    .dataframe thead th {\n",
              "        text-align: right;\n",
              "    }\n",
              "</style>\n",
              "<table border=\"1\" class=\"dataframe\">\n",
              "  <thead>\n",
              "    <tr style=\"text-align: right;\">\n",
              "      <th></th>\n",
              "      <th>show_id</th>\n",
              "      <th>type</th>\n",
              "      <th>title</th>\n",
              "      <th>director</th>\n",
              "      <th>cast</th>\n",
              "      <th>country</th>\n",
              "      <th>date_added</th>\n",
              "      <th>release_year</th>\n",
              "      <th>rating</th>\n",
              "      <th>duration</th>\n",
              "      <th>listed_in</th>\n",
              "      <th>description</th>\n",
              "    </tr>\n",
              "  </thead>\n",
              "  <tbody>\n",
              "    <tr>\n",
              "      <th>0</th>\n",
              "      <td>s1</td>\n",
              "      <td>TV Show</td>\n",
              "      <td>3%</td>\n",
              "      <td>NaN</td>\n",
              "      <td>João Miguel, Bianca Comparato, Michel Gomes, R...</td>\n",
              "      <td>Brazil</td>\n",
              "      <td>August 14, 2020</td>\n",
              "      <td>2020</td>\n",
              "      <td>TV-MA</td>\n",
              "      <td>4 Seasons</td>\n",
              "      <td>International TV Shows, TV Dramas, TV Sci-Fi &amp;...</td>\n",
              "      <td>In a future where the elite inhabit an island ...</td>\n",
              "    </tr>\n",
              "    <tr>\n",
              "      <th>1</th>\n",
              "      <td>s2</td>\n",
              "      <td>Movie</td>\n",
              "      <td>7:19</td>\n",
              "      <td>Jorge Michel Grau</td>\n",
              "      <td>Demián Bichir, Héctor Bonilla, Oscar Serrano, ...</td>\n",
              "      <td>Mexico</td>\n",
              "      <td>December 23, 2016</td>\n",
              "      <td>2016</td>\n",
              "      <td>TV-MA</td>\n",
              "      <td>93 min</td>\n",
              "      <td>Dramas, International Movies</td>\n",
              "      <td>After a devastating earthquake hits Mexico Cit...</td>\n",
              "    </tr>\n",
              "    <tr>\n",
              "      <th>2</th>\n",
              "      <td>s3</td>\n",
              "      <td>Movie</td>\n",
              "      <td>23:59</td>\n",
              "      <td>Gilbert Chan</td>\n",
              "      <td>Tedd Chan, Stella Chung, Henley Hii, Lawrence ...</td>\n",
              "      <td>Singapore</td>\n",
              "      <td>December 20, 2018</td>\n",
              "      <td>2011</td>\n",
              "      <td>R</td>\n",
              "      <td>78 min</td>\n",
              "      <td>Horror Movies, International Movies</td>\n",
              "      <td>When an army recruit is found dead, his fellow...</td>\n",
              "    </tr>\n",
              "    <tr>\n",
              "      <th>3</th>\n",
              "      <td>s4</td>\n",
              "      <td>Movie</td>\n",
              "      <td>9</td>\n",
              "      <td>Shane Acker</td>\n",
              "      <td>Elijah Wood, John C. Reilly, Jennifer Connelly...</td>\n",
              "      <td>United States</td>\n",
              "      <td>November 16, 2017</td>\n",
              "      <td>2009</td>\n",
              "      <td>PG-13</td>\n",
              "      <td>80 min</td>\n",
              "      <td>Action &amp; Adventure, Independent Movies, Sci-Fi...</td>\n",
              "      <td>In a postapocalyptic world, rag-doll robots hi...</td>\n",
              "    </tr>\n",
              "    <tr>\n",
              "      <th>4</th>\n",
              "      <td>s5</td>\n",
              "      <td>Movie</td>\n",
              "      <td>21</td>\n",
              "      <td>Robert Luketic</td>\n",
              "      <td>Jim Sturgess, Kevin Spacey, Kate Bosworth, Aar...</td>\n",
              "      <td>United States</td>\n",
              "      <td>January 1, 2020</td>\n",
              "      <td>2008</td>\n",
              "      <td>PG-13</td>\n",
              "      <td>123 min</td>\n",
              "      <td>Dramas</td>\n",
              "      <td>A brilliant group of students become card-coun...</td>\n",
              "    </tr>\n",
              "  </tbody>\n",
              "</table>\n",
              "</div>"
            ],
            "text/plain": [
              "  show_id  ...                                        description\n",
              "0      s1  ...  In a future where the elite inhabit an island ...\n",
              "1      s2  ...  After a devastating earthquake hits Mexico Cit...\n",
              "2      s3  ...  When an army recruit is found dead, his fellow...\n",
              "3      s4  ...  In a postapocalyptic world, rag-doll robots hi...\n",
              "4      s5  ...  A brilliant group of students become card-coun...\n",
              "\n",
              "[5 rows x 12 columns]"
            ]
          },
          "metadata": {
            "tags": []
          },
          "execution_count": 7
        }
      ]
    },
    {
      "cell_type": "code",
      "metadata": {
        "colab": {
          "base_uri": "https://localhost:8080/",
          "height": 397
        },
        "id": "YTgeyUfWpCiM",
        "outputId": "e1313c9f-6ebb-4ecc-b604-61255417f310"
      },
      "source": [
        "df.tail()"
      ],
      "execution_count": 8,
      "outputs": [
        {
          "output_type": "execute_result",
          "data": {
            "text/html": [
              "<div>\n",
              "<style scoped>\n",
              "    .dataframe tbody tr th:only-of-type {\n",
              "        vertical-align: middle;\n",
              "    }\n",
              "\n",
              "    .dataframe tbody tr th {\n",
              "        vertical-align: top;\n",
              "    }\n",
              "\n",
              "    .dataframe thead th {\n",
              "        text-align: right;\n",
              "    }\n",
              "</style>\n",
              "<table border=\"1\" class=\"dataframe\">\n",
              "  <thead>\n",
              "    <tr style=\"text-align: right;\">\n",
              "      <th></th>\n",
              "      <th>show_id</th>\n",
              "      <th>type</th>\n",
              "      <th>title</th>\n",
              "      <th>director</th>\n",
              "      <th>cast</th>\n",
              "      <th>country</th>\n",
              "      <th>date_added</th>\n",
              "      <th>release_year</th>\n",
              "      <th>rating</th>\n",
              "      <th>duration</th>\n",
              "      <th>listed_in</th>\n",
              "      <th>description</th>\n",
              "    </tr>\n",
              "  </thead>\n",
              "  <tbody>\n",
              "    <tr>\n",
              "      <th>7782</th>\n",
              "      <td>s7783</td>\n",
              "      <td>Movie</td>\n",
              "      <td>Zozo</td>\n",
              "      <td>Josef Fares</td>\n",
              "      <td>Imad Creidi, Antoinette Turk, Elias Gergi, Car...</td>\n",
              "      <td>Sweden, Czech Republic, United Kingdom, Denmar...</td>\n",
              "      <td>October 19, 2020</td>\n",
              "      <td>2005</td>\n",
              "      <td>TV-MA</td>\n",
              "      <td>99 min</td>\n",
              "      <td>Dramas, International Movies</td>\n",
              "      <td>When Lebanon's Civil War deprives Zozo of his ...</td>\n",
              "    </tr>\n",
              "    <tr>\n",
              "      <th>7783</th>\n",
              "      <td>s7784</td>\n",
              "      <td>Movie</td>\n",
              "      <td>Zubaan</td>\n",
              "      <td>Mozez Singh</td>\n",
              "      <td>Vicky Kaushal, Sarah-Jane Dias, Raaghav Chanan...</td>\n",
              "      <td>India</td>\n",
              "      <td>March 2, 2019</td>\n",
              "      <td>2015</td>\n",
              "      <td>TV-14</td>\n",
              "      <td>111 min</td>\n",
              "      <td>Dramas, International Movies, Music &amp; Musicals</td>\n",
              "      <td>A scrappy but poor boy worms his way into a ty...</td>\n",
              "    </tr>\n",
              "    <tr>\n",
              "      <th>7784</th>\n",
              "      <td>s7785</td>\n",
              "      <td>Movie</td>\n",
              "      <td>Zulu Man in Japan</td>\n",
              "      <td>NaN</td>\n",
              "      <td>Nasty C</td>\n",
              "      <td>NaN</td>\n",
              "      <td>September 25, 2020</td>\n",
              "      <td>2019</td>\n",
              "      <td>TV-MA</td>\n",
              "      <td>44 min</td>\n",
              "      <td>Documentaries, International Movies, Music &amp; M...</td>\n",
              "      <td>In this documentary, South African rapper Nast...</td>\n",
              "    </tr>\n",
              "    <tr>\n",
              "      <th>7785</th>\n",
              "      <td>s7786</td>\n",
              "      <td>TV Show</td>\n",
              "      <td>Zumbo's Just Desserts</td>\n",
              "      <td>NaN</td>\n",
              "      <td>Adriano Zumbo, Rachel Khoo</td>\n",
              "      <td>Australia</td>\n",
              "      <td>October 31, 2020</td>\n",
              "      <td>2019</td>\n",
              "      <td>TV-PG</td>\n",
              "      <td>1 Season</td>\n",
              "      <td>International TV Shows, Reality TV</td>\n",
              "      <td>Dessert wizard Adriano Zumbo looks for the nex...</td>\n",
              "    </tr>\n",
              "    <tr>\n",
              "      <th>7786</th>\n",
              "      <td>s7787</td>\n",
              "      <td>Movie</td>\n",
              "      <td>ZZ TOP: THAT LITTLE OL' BAND FROM TEXAS</td>\n",
              "      <td>Sam Dunn</td>\n",
              "      <td>NaN</td>\n",
              "      <td>United Kingdom, Canada, United States</td>\n",
              "      <td>March 1, 2020</td>\n",
              "      <td>2019</td>\n",
              "      <td>TV-MA</td>\n",
              "      <td>90 min</td>\n",
              "      <td>Documentaries, Music &amp; Musicals</td>\n",
              "      <td>This documentary delves into the mystique behi...</td>\n",
              "    </tr>\n",
              "  </tbody>\n",
              "</table>\n",
              "</div>"
            ],
            "text/plain": [
              "     show_id  ...                                        description\n",
              "7782   s7783  ...  When Lebanon's Civil War deprives Zozo of his ...\n",
              "7783   s7784  ...  A scrappy but poor boy worms his way into a ty...\n",
              "7784   s7785  ...  In this documentary, South African rapper Nast...\n",
              "7785   s7786  ...  Dessert wizard Adriano Zumbo looks for the nex...\n",
              "7786   s7787  ...  This documentary delves into the mystique behi...\n",
              "\n",
              "[5 rows x 12 columns]"
            ]
          },
          "metadata": {
            "tags": []
          },
          "execution_count": 8
        }
      ]
    },
    {
      "cell_type": "code",
      "metadata": {
        "colab": {
          "base_uri": "https://localhost:8080/",
          "height": 363
        },
        "id": "RQs2lWrbtlr9",
        "outputId": "36383b55-5286-4e00-d287-173c9bfd8412"
      },
      "source": [
        "df.sample(5)"
      ],
      "execution_count": 9,
      "outputs": [
        {
          "output_type": "execute_result",
          "data": {
            "text/html": [
              "<div>\n",
              "<style scoped>\n",
              "    .dataframe tbody tr th:only-of-type {\n",
              "        vertical-align: middle;\n",
              "    }\n",
              "\n",
              "    .dataframe tbody tr th {\n",
              "        vertical-align: top;\n",
              "    }\n",
              "\n",
              "    .dataframe thead th {\n",
              "        text-align: right;\n",
              "    }\n",
              "</style>\n",
              "<table border=\"1\" class=\"dataframe\">\n",
              "  <thead>\n",
              "    <tr style=\"text-align: right;\">\n",
              "      <th></th>\n",
              "      <th>show_id</th>\n",
              "      <th>type</th>\n",
              "      <th>title</th>\n",
              "      <th>director</th>\n",
              "      <th>cast</th>\n",
              "      <th>country</th>\n",
              "      <th>date_added</th>\n",
              "      <th>release_year</th>\n",
              "      <th>rating</th>\n",
              "      <th>duration</th>\n",
              "      <th>listed_in</th>\n",
              "      <th>description</th>\n",
              "    </tr>\n",
              "  </thead>\n",
              "  <tbody>\n",
              "    <tr>\n",
              "      <th>2707</th>\n",
              "      <td>s2708</td>\n",
              "      <td>Movie</td>\n",
              "      <td>Hero</td>\n",
              "      <td>Corey Yuen</td>\n",
              "      <td>Takeshi Kaneshiro, Yuen Biao, Valerie Chow, Je...</td>\n",
              "      <td>Hong Kong, China</td>\n",
              "      <td>August 1, 2018</td>\n",
              "      <td>1997</td>\n",
              "      <td>TV-MA</td>\n",
              "      <td>89 min</td>\n",
              "      <td>Action &amp; Adventure, International Movies</td>\n",
              "      <td>A pugilist from Shantung struggles to rise to ...</td>\n",
              "    </tr>\n",
              "    <tr>\n",
              "      <th>246</th>\n",
              "      <td>s247</td>\n",
              "      <td>Movie</td>\n",
              "      <td>A Very Country Christmas</td>\n",
              "      <td>Justin G. Dyck</td>\n",
              "      <td>Bea Santos, Greyston Holt, Greg Vaughan, Deana...</td>\n",
              "      <td>United States, Canada</td>\n",
              "      <td>November 15, 2020</td>\n",
              "      <td>2017</td>\n",
              "      <td>TV-G</td>\n",
              "      <td>84 min</td>\n",
              "      <td>Music &amp; Musicals, Romantic Movies</td>\n",
              "      <td>When an unfulfilled country music star hides o...</td>\n",
              "    </tr>\n",
              "    <tr>\n",
              "      <th>3069</th>\n",
              "      <td>s3070</td>\n",
              "      <td>TV Show</td>\n",
              "      <td>Islands of the Future</td>\n",
              "      <td>NaN</td>\n",
              "      <td>NaN</td>\n",
              "      <td>United Kingdom</td>\n",
              "      <td>March 1, 2017</td>\n",
              "      <td>2014</td>\n",
              "      <td>TV-PG</td>\n",
              "      <td>1 Season</td>\n",
              "      <td>Docuseries, International TV Shows, Science &amp; ...</td>\n",
              "      <td>Amid rising oil and gas prices and dwindling r...</td>\n",
              "    </tr>\n",
              "    <tr>\n",
              "      <th>7592</th>\n",
              "      <td>s7593</td>\n",
              "      <td>Movie</td>\n",
              "      <td>Whisky</td>\n",
              "      <td>Pablo Stoll, Juan Pablo Rebella</td>\n",
              "      <td>Andrés Pazos, Mirella Pascual, Jorge Bolani, J...</td>\n",
              "      <td>Uruguay, Argentina, Germany, Spain</td>\n",
              "      <td>January 22, 2020</td>\n",
              "      <td>2004</td>\n",
              "      <td>TV-MA</td>\n",
              "      <td>98 min</td>\n",
              "      <td>Comedies, Dramas, International Movies</td>\n",
              "      <td>To impress family, a factory owner pretends to...</td>\n",
              "    </tr>\n",
              "    <tr>\n",
              "      <th>4181</th>\n",
              "      <td>s4182</td>\n",
              "      <td>TV Show</td>\n",
              "      <td>Monkey Twins</td>\n",
              "      <td>NaN</td>\n",
              "      <td>Phakin Khamwilaisak, Sumret Muengput, Alisa Ku...</td>\n",
              "      <td>Thailand</td>\n",
              "      <td>September 2, 2018</td>\n",
              "      <td>2018</td>\n",
              "      <td>TV-MA</td>\n",
              "      <td>1 Season</td>\n",
              "      <td>Crime TV Shows, International TV Shows, TV Act...</td>\n",
              "      <td>Inspired by Khon dance drama and Thai martial ...</td>\n",
              "    </tr>\n",
              "  </tbody>\n",
              "</table>\n",
              "</div>"
            ],
            "text/plain": [
              "     show_id  ...                                        description\n",
              "2707   s2708  ...  A pugilist from Shantung struggles to rise to ...\n",
              "246     s247  ...  When an unfulfilled country music star hides o...\n",
              "3069   s3070  ...  Amid rising oil and gas prices and dwindling r...\n",
              "7592   s7593  ...  To impress family, a factory owner pretends to...\n",
              "4181   s4182  ...  Inspired by Khon dance drama and Thai martial ...\n",
              "\n",
              "[5 rows x 12 columns]"
            ]
          },
          "metadata": {
            "tags": []
          },
          "execution_count": 9
        }
      ]
    },
    {
      "cell_type": "code",
      "metadata": {
        "colab": {
          "base_uri": "https://localhost:8080/"
        },
        "id": "8DBq2sV2tybc",
        "outputId": "46bb98a4-2cea-4d47-e4b4-c16e7e032e5a"
      },
      "source": [
        "df.info()"
      ],
      "execution_count": 10,
      "outputs": [
        {
          "output_type": "stream",
          "text": [
            "<class 'pandas.core.frame.DataFrame'>\n",
            "RangeIndex: 7787 entries, 0 to 7786\n",
            "Data columns (total 12 columns):\n",
            " #   Column        Non-Null Count  Dtype \n",
            "---  ------        --------------  ----- \n",
            " 0   show_id       7787 non-null   object\n",
            " 1   type          7787 non-null   object\n",
            " 2   title         7787 non-null   object\n",
            " 3   director      5398 non-null   object\n",
            " 4   cast          7069 non-null   object\n",
            " 5   country       7280 non-null   object\n",
            " 6   date_added    7777 non-null   object\n",
            " 7   release_year  7787 non-null   int64 \n",
            " 8   rating        7780 non-null   object\n",
            " 9   duration      7787 non-null   object\n",
            " 10  listed_in     7787 non-null   object\n",
            " 11  description   7787 non-null   object\n",
            "dtypes: int64(1), object(11)\n",
            "memory usage: 730.2+ KB\n"
          ],
          "name": "stdout"
        }
      ]
    },
    {
      "cell_type": "markdown",
      "metadata": {
        "id": "QyjRLfoAuM1y"
      },
      "source": [
        "**Drop columns that may cause any misleading or which are not important (meaningless)**"
      ]
    },
    {
      "cell_type": "code",
      "metadata": {
        "id": "vXz2CCgyt7C5"
      },
      "source": [
        "df.drop(labels='show_id', axis=1, inplace=True)"
      ],
      "execution_count": 11,
      "outputs": []
    },
    {
      "cell_type": "code",
      "metadata": {
        "colab": {
          "base_uri": "https://localhost:8080/",
          "height": 279
        },
        "id": "ZCzEFh4guve9",
        "outputId": "4e7f5de9-f986-4557-82a1-a6c308b2f60c"
      },
      "source": [
        "df.sample(5)"
      ],
      "execution_count": 12,
      "outputs": [
        {
          "output_type": "execute_result",
          "data": {
            "text/html": [
              "<div>\n",
              "<style scoped>\n",
              "    .dataframe tbody tr th:only-of-type {\n",
              "        vertical-align: middle;\n",
              "    }\n",
              "\n",
              "    .dataframe tbody tr th {\n",
              "        vertical-align: top;\n",
              "    }\n",
              "\n",
              "    .dataframe thead th {\n",
              "        text-align: right;\n",
              "    }\n",
              "</style>\n",
              "<table border=\"1\" class=\"dataframe\">\n",
              "  <thead>\n",
              "    <tr style=\"text-align: right;\">\n",
              "      <th></th>\n",
              "      <th>type</th>\n",
              "      <th>title</th>\n",
              "      <th>director</th>\n",
              "      <th>cast</th>\n",
              "      <th>country</th>\n",
              "      <th>date_added</th>\n",
              "      <th>release_year</th>\n",
              "      <th>rating</th>\n",
              "      <th>duration</th>\n",
              "      <th>listed_in</th>\n",
              "      <th>description</th>\n",
              "    </tr>\n",
              "  </thead>\n",
              "  <tbody>\n",
              "    <tr>\n",
              "      <th>713</th>\n",
              "      <td>Movie</td>\n",
              "      <td>Banana Island Ghost</td>\n",
              "      <td>BB Sasore</td>\n",
              "      <td>Chigul, Patrick Diabuah, Adetomiwa Edun, Uche ...</td>\n",
              "      <td>Nigeria</td>\n",
              "      <td>December 6, 2019</td>\n",
              "      <td>2017</td>\n",
              "      <td>TV-14</td>\n",
              "      <td>108 min</td>\n",
              "      <td>Comedies, International Movies</td>\n",
              "      <td>Searching for a soul mate, a ghost negotiates ...</td>\n",
              "    </tr>\n",
              "    <tr>\n",
              "      <th>3688</th>\n",
              "      <td>Movie</td>\n",
              "      <td>Lo and Behold: Reveries of the Connected World</td>\n",
              "      <td>Werner Herzog</td>\n",
              "      <td>Werner Herzog</td>\n",
              "      <td>United States</td>\n",
              "      <td>December 23, 2016</td>\n",
              "      <td>2016</td>\n",
              "      <td>PG-13</td>\n",
              "      <td>98 min</td>\n",
              "      <td>Documentaries</td>\n",
              "      <td>Filmmaker Werner Herzog presents a history of ...</td>\n",
              "    </tr>\n",
              "    <tr>\n",
              "      <th>4858</th>\n",
              "      <td>TV Show</td>\n",
              "      <td>PILI Fantasy: War of Dragons</td>\n",
              "      <td>NaN</td>\n",
              "      <td>Wang Hsi-hua, Lai Wei, Zhang Yu-quan, Chen Yu-...</td>\n",
              "      <td>NaN</td>\n",
              "      <td>July 12, 2019</td>\n",
              "      <td>2019</td>\n",
              "      <td>TV-14</td>\n",
              "      <td>1 Season</td>\n",
              "      <td>International TV Shows, TV Action &amp; Adventure,...</td>\n",
              "      <td>As turmoil looms in the Martial World, and the...</td>\n",
              "    </tr>\n",
              "    <tr>\n",
              "      <th>4297</th>\n",
              "      <td>TV Show</td>\n",
              "      <td>Mutant Busters</td>\n",
              "      <td>NaN</td>\n",
              "      <td>Dermot Arrigan, James Giblin, Noah Levin, Moll...</td>\n",
              "      <td>Spain</td>\n",
              "      <td>June 1, 2017</td>\n",
              "      <td>2017</td>\n",
              "      <td>TV-PG</td>\n",
              "      <td>2 Seasons</td>\n",
              "      <td>Kids' TV, TV Comedies</td>\n",
              "      <td>After a natural disaster known as the Big Fart...</td>\n",
              "    </tr>\n",
              "    <tr>\n",
              "      <th>5290</th>\n",
              "      <td>Movie</td>\n",
              "      <td>Roxanne Roxanne</td>\n",
              "      <td>Michael Larnell</td>\n",
              "      <td>Chanté Adams, Mahershala Ali, Nia Long, Elvis ...</td>\n",
              "      <td>United States</td>\n",
              "      <td>March 23, 2018</td>\n",
              "      <td>2018</td>\n",
              "      <td>TV-MA</td>\n",
              "      <td>100 min</td>\n",
              "      <td>Dramas</td>\n",
              "      <td>She grew up in a tough New York neighborhood i...</td>\n",
              "    </tr>\n",
              "  </tbody>\n",
              "</table>\n",
              "</div>"
            ],
            "text/plain": [
              "         type  ...                                        description\n",
              "713     Movie  ...  Searching for a soul mate, a ghost negotiates ...\n",
              "3688    Movie  ...  Filmmaker Werner Herzog presents a history of ...\n",
              "4858  TV Show  ...  As turmoil looms in the Martial World, and the...\n",
              "4297  TV Show  ...  After a natural disaster known as the Big Fart...\n",
              "5290    Movie  ...  She grew up in a tough New York neighborhood i...\n",
              "\n",
              "[5 rows x 11 columns]"
            ]
          },
          "metadata": {
            "tags": []
          },
          "execution_count": 12
        }
      ]
    },
    {
      "cell_type": "code",
      "metadata": {
        "colab": {
          "base_uri": "https://localhost:8080/"
        },
        "id": "7XFG0ZOlvAfL",
        "outputId": "10042e04-bf6d-4c37-a1e6-b1bd8298d3ae"
      },
      "source": [
        "df.shape"
      ],
      "execution_count": 13,
      "outputs": [
        {
          "output_type": "execute_result",
          "data": {
            "text/plain": [
              "(7787, 11)"
            ]
          },
          "metadata": {
            "tags": []
          },
          "execution_count": 13
        }
      ]
    },
    {
      "cell_type": "code",
      "metadata": {
        "colab": {
          "base_uri": "https://localhost:8080/"
        },
        "id": "3mU_NX-XvD-x",
        "outputId": "2af3c269-0c34-4f07-dca7-00bc69d82d33"
      },
      "source": [
        "df.info()"
      ],
      "execution_count": 14,
      "outputs": [
        {
          "output_type": "stream",
          "text": [
            "<class 'pandas.core.frame.DataFrame'>\n",
            "RangeIndex: 7787 entries, 0 to 7786\n",
            "Data columns (total 11 columns):\n",
            " #   Column        Non-Null Count  Dtype \n",
            "---  ------        --------------  ----- \n",
            " 0   type          7787 non-null   object\n",
            " 1   title         7787 non-null   object\n",
            " 2   director      5398 non-null   object\n",
            " 3   cast          7069 non-null   object\n",
            " 4   country       7280 non-null   object\n",
            " 5   date_added    7777 non-null   object\n",
            " 6   release_year  7787 non-null   int64 \n",
            " 7   rating        7780 non-null   object\n",
            " 8   duration      7787 non-null   object\n",
            " 9   listed_in     7787 non-null   object\n",
            " 10  description   7787 non-null   object\n",
            "dtypes: int64(1), object(10)\n",
            "memory usage: 669.3+ KB\n"
          ],
          "name": "stdout"
        }
      ]
    },
    {
      "cell_type": "markdown",
      "metadata": {
        "id": "66_dTIbTvTGk"
      },
      "source": [
        "**Convert `date_added` into datetime**"
      ]
    },
    {
      "cell_type": "code",
      "metadata": {
        "id": "l2LmmyG_vKKu"
      },
      "source": [
        "df.date_added = pd.to_datetime(df.date_added)"
      ],
      "execution_count": 15,
      "outputs": []
    },
    {
      "cell_type": "code",
      "metadata": {
        "colab": {
          "base_uri": "https://localhost:8080/"
        },
        "id": "3gVCPZsCwne4",
        "outputId": "aca4fec2-6007-41df-a56b-03b742e5ea42"
      },
      "source": [
        "df.info()"
      ],
      "execution_count": 16,
      "outputs": [
        {
          "output_type": "stream",
          "text": [
            "<class 'pandas.core.frame.DataFrame'>\n",
            "RangeIndex: 7787 entries, 0 to 7786\n",
            "Data columns (total 11 columns):\n",
            " #   Column        Non-Null Count  Dtype         \n",
            "---  ------        --------------  -----         \n",
            " 0   type          7787 non-null   object        \n",
            " 1   title         7787 non-null   object        \n",
            " 2   director      5398 non-null   object        \n",
            " 3   cast          7069 non-null   object        \n",
            " 4   country       7280 non-null   object        \n",
            " 5   date_added    7777 non-null   datetime64[ns]\n",
            " 6   release_year  7787 non-null   int64         \n",
            " 7   rating        7780 non-null   object        \n",
            " 8   duration      7787 non-null   object        \n",
            " 9   listed_in     7787 non-null   object        \n",
            " 10  description   7787 non-null   object        \n",
            "dtypes: datetime64[ns](1), int64(1), object(9)\n",
            "memory usage: 669.3+ KB\n"
          ],
          "name": "stdout"
        }
      ]
    },
    {
      "cell_type": "markdown",
      "metadata": {
        "id": "pGqPQVyJSYLV"
      },
      "source": [
        "**Now we can extract the year from `date_added` column** "
      ]
    },
    {
      "cell_type": "code",
      "metadata": {
        "id": "yazMm9nASXKn"
      },
      "source": [
        "df[\"year_added\"] = df[\"date_added\"].dt.year"
      ],
      "execution_count": 17,
      "outputs": []
    },
    {
      "cell_type": "code",
      "metadata": {
        "colab": {
          "base_uri": "https://localhost:8080/",
          "height": 279
        },
        "id": "jWS1z1UewynH",
        "outputId": "73e65c99-d91f-4d50-819b-40ba6a83ab4c"
      },
      "source": [
        "df.head()"
      ],
      "execution_count": 18,
      "outputs": [
        {
          "output_type": "execute_result",
          "data": {
            "text/html": [
              "<div>\n",
              "<style scoped>\n",
              "    .dataframe tbody tr th:only-of-type {\n",
              "        vertical-align: middle;\n",
              "    }\n",
              "\n",
              "    .dataframe tbody tr th {\n",
              "        vertical-align: top;\n",
              "    }\n",
              "\n",
              "    .dataframe thead th {\n",
              "        text-align: right;\n",
              "    }\n",
              "</style>\n",
              "<table border=\"1\" class=\"dataframe\">\n",
              "  <thead>\n",
              "    <tr style=\"text-align: right;\">\n",
              "      <th></th>\n",
              "      <th>type</th>\n",
              "      <th>title</th>\n",
              "      <th>director</th>\n",
              "      <th>cast</th>\n",
              "      <th>country</th>\n",
              "      <th>date_added</th>\n",
              "      <th>release_year</th>\n",
              "      <th>rating</th>\n",
              "      <th>duration</th>\n",
              "      <th>listed_in</th>\n",
              "      <th>description</th>\n",
              "      <th>year_added</th>\n",
              "    </tr>\n",
              "  </thead>\n",
              "  <tbody>\n",
              "    <tr>\n",
              "      <th>0</th>\n",
              "      <td>TV Show</td>\n",
              "      <td>3%</td>\n",
              "      <td>NaN</td>\n",
              "      <td>João Miguel, Bianca Comparato, Michel Gomes, R...</td>\n",
              "      <td>Brazil</td>\n",
              "      <td>2020-08-14</td>\n",
              "      <td>2020</td>\n",
              "      <td>TV-MA</td>\n",
              "      <td>4 Seasons</td>\n",
              "      <td>International TV Shows, TV Dramas, TV Sci-Fi &amp;...</td>\n",
              "      <td>In a future where the elite inhabit an island ...</td>\n",
              "      <td>2020.0</td>\n",
              "    </tr>\n",
              "    <tr>\n",
              "      <th>1</th>\n",
              "      <td>Movie</td>\n",
              "      <td>7:19</td>\n",
              "      <td>Jorge Michel Grau</td>\n",
              "      <td>Demián Bichir, Héctor Bonilla, Oscar Serrano, ...</td>\n",
              "      <td>Mexico</td>\n",
              "      <td>2016-12-23</td>\n",
              "      <td>2016</td>\n",
              "      <td>TV-MA</td>\n",
              "      <td>93 min</td>\n",
              "      <td>Dramas, International Movies</td>\n",
              "      <td>After a devastating earthquake hits Mexico Cit...</td>\n",
              "      <td>2016.0</td>\n",
              "    </tr>\n",
              "    <tr>\n",
              "      <th>2</th>\n",
              "      <td>Movie</td>\n",
              "      <td>23:59</td>\n",
              "      <td>Gilbert Chan</td>\n",
              "      <td>Tedd Chan, Stella Chung, Henley Hii, Lawrence ...</td>\n",
              "      <td>Singapore</td>\n",
              "      <td>2018-12-20</td>\n",
              "      <td>2011</td>\n",
              "      <td>R</td>\n",
              "      <td>78 min</td>\n",
              "      <td>Horror Movies, International Movies</td>\n",
              "      <td>When an army recruit is found dead, his fellow...</td>\n",
              "      <td>2018.0</td>\n",
              "    </tr>\n",
              "    <tr>\n",
              "      <th>3</th>\n",
              "      <td>Movie</td>\n",
              "      <td>9</td>\n",
              "      <td>Shane Acker</td>\n",
              "      <td>Elijah Wood, John C. Reilly, Jennifer Connelly...</td>\n",
              "      <td>United States</td>\n",
              "      <td>2017-11-16</td>\n",
              "      <td>2009</td>\n",
              "      <td>PG-13</td>\n",
              "      <td>80 min</td>\n",
              "      <td>Action &amp; Adventure, Independent Movies, Sci-Fi...</td>\n",
              "      <td>In a postapocalyptic world, rag-doll robots hi...</td>\n",
              "      <td>2017.0</td>\n",
              "    </tr>\n",
              "    <tr>\n",
              "      <th>4</th>\n",
              "      <td>Movie</td>\n",
              "      <td>21</td>\n",
              "      <td>Robert Luketic</td>\n",
              "      <td>Jim Sturgess, Kevin Spacey, Kate Bosworth, Aar...</td>\n",
              "      <td>United States</td>\n",
              "      <td>2020-01-01</td>\n",
              "      <td>2008</td>\n",
              "      <td>PG-13</td>\n",
              "      <td>123 min</td>\n",
              "      <td>Dramas</td>\n",
              "      <td>A brilliant group of students become card-coun...</td>\n",
              "      <td>2020.0</td>\n",
              "    </tr>\n",
              "  </tbody>\n",
              "</table>\n",
              "</div>"
            ],
            "text/plain": [
              "      type  ... year_added\n",
              "0  TV Show  ...     2020.0\n",
              "1    Movie  ...     2016.0\n",
              "2    Movie  ...     2018.0\n",
              "3    Movie  ...     2017.0\n",
              "4    Movie  ...     2020.0\n",
              "\n",
              "[5 rows x 12 columns]"
            ]
          },
          "metadata": {
            "tags": []
          },
          "execution_count": 18
        }
      ]
    },
    {
      "cell_type": "code",
      "metadata": {
        "id": "FtQGV72nUNyv"
      },
      "source": [
        "df.drop(labels='date_added', axis=1, inplace=True)"
      ],
      "execution_count": 19,
      "outputs": []
    },
    {
      "cell_type": "code",
      "metadata": {
        "colab": {
          "base_uri": "https://localhost:8080/"
        },
        "id": "4nrlv121w2rd",
        "outputId": "18aed62d-4601-4c6d-a688-f59e0acae77f"
      },
      "source": [
        "df.columns"
      ],
      "execution_count": 20,
      "outputs": [
        {
          "output_type": "execute_result",
          "data": {
            "text/plain": [
              "Index(['type', 'title', 'director', 'cast', 'country', 'release_year',\n",
              "       'rating', 'duration', 'listed_in', 'description', 'year_added'],\n",
              "      dtype='object')"
            ]
          },
          "metadata": {
            "tags": []
          },
          "execution_count": 20
        }
      ]
    },
    {
      "cell_type": "code",
      "metadata": {
        "colab": {
          "base_uri": "https://localhost:8080/"
        },
        "id": "s_I5taEeU2YK",
        "outputId": "ca0ce221-795b-4fe3-ac10-1c92925def69"
      },
      "source": [
        "df.info()"
      ],
      "execution_count": 21,
      "outputs": [
        {
          "output_type": "stream",
          "text": [
            "<class 'pandas.core.frame.DataFrame'>\n",
            "RangeIndex: 7787 entries, 0 to 7786\n",
            "Data columns (total 11 columns):\n",
            " #   Column        Non-Null Count  Dtype  \n",
            "---  ------        --------------  -----  \n",
            " 0   type          7787 non-null   object \n",
            " 1   title         7787 non-null   object \n",
            " 2   director      5398 non-null   object \n",
            " 3   cast          7069 non-null   object \n",
            " 4   country       7280 non-null   object \n",
            " 5   release_year  7787 non-null   int64  \n",
            " 6   rating        7780 non-null   object \n",
            " 7   duration      7787 non-null   object \n",
            " 8   listed_in     7787 non-null   object \n",
            " 9   description   7787 non-null   object \n",
            " 10  year_added    7777 non-null   float64\n",
            "dtypes: float64(1), int64(1), object(9)\n",
            "memory usage: 669.3+ KB\n"
          ],
          "name": "stdout"
        }
      ]
    },
    {
      "cell_type": "markdown",
      "metadata": {
        "id": "1fvGWzGqU-KT"
      },
      "source": [
        "**Convert `year_added` from float to int**"
      ]
    },
    {
      "cell_type": "code",
      "metadata": {
        "colab": {
          "base_uri": "https://localhost:8080/"
        },
        "id": "r1QgI7wsW_D9",
        "outputId": "693e24c6-5164-43a3-c30d-1c64346a2900"
      },
      "source": [
        "df.shape"
      ],
      "execution_count": 22,
      "outputs": [
        {
          "output_type": "execute_result",
          "data": {
            "text/plain": [
              "(7787, 11)"
            ]
          },
          "metadata": {
            "tags": []
          },
          "execution_count": 22
        }
      ]
    },
    {
      "cell_type": "markdown",
      "metadata": {
        "id": "MCcy12MlXYL6"
      },
      "source": [
        "**When you wanna convert data type of column's value it must not has any NaN values, So we will drop any NaN value in `year_added` column**"
      ]
    },
    {
      "cell_type": "code",
      "metadata": {
        "colab": {
          "base_uri": "https://localhost:8080/"
        },
        "id": "Ckjw6QFUVnLT",
        "outputId": "0cd84482-8f65-4050-e3aa-909d6bf644fe"
      },
      "source": [
        "df = df[df.year_added.notna()]\n",
        "df.shape"
      ],
      "execution_count": 23,
      "outputs": [
        {
          "output_type": "execute_result",
          "data": {
            "text/plain": [
              "(7777, 11)"
            ]
          },
          "metadata": {
            "tags": []
          },
          "execution_count": 23
        }
      ]
    },
    {
      "cell_type": "code",
      "metadata": {
        "colab": {
          "base_uri": "https://localhost:8080/"
        },
        "id": "ZPbEAH2HU53_",
        "outputId": "ebc46f6f-bb70-46e7-ef58-3d921b89a6ad"
      },
      "source": [
        "df['year_added'] = df['year_added'].apply(np.int64)\n",
        "df.info()"
      ],
      "execution_count": 24,
      "outputs": [
        {
          "output_type": "stream",
          "text": [
            "<class 'pandas.core.frame.DataFrame'>\n",
            "Int64Index: 7777 entries, 0 to 7786\n",
            "Data columns (total 11 columns):\n",
            " #   Column        Non-Null Count  Dtype \n",
            "---  ------        --------------  ----- \n",
            " 0   type          7777 non-null   object\n",
            " 1   title         7777 non-null   object\n",
            " 2   director      5398 non-null   object\n",
            " 3   cast          7059 non-null   object\n",
            " 4   country       7271 non-null   object\n",
            " 5   release_year  7777 non-null   int64 \n",
            " 6   rating        7770 non-null   object\n",
            " 7   duration      7777 non-null   object\n",
            " 8   listed_in     7777 non-null   object\n",
            " 9   description   7777 non-null   object\n",
            " 10  year_added    7777 non-null   int64 \n",
            "dtypes: int64(2), object(9)\n",
            "memory usage: 729.1+ KB\n"
          ],
          "name": "stdout"
        }
      ]
    },
    {
      "cell_type": "code",
      "metadata": {
        "colab": {
          "base_uri": "https://localhost:8080/",
          "height": 595
        },
        "id": "3YH4n27PXVEh",
        "outputId": "3ada15e2-1993-4a06-f11c-a5d09831de77"
      },
      "source": [
        "df.sample(10)"
      ],
      "execution_count": 25,
      "outputs": [
        {
          "output_type": "execute_result",
          "data": {
            "text/html": [
              "<div>\n",
              "<style scoped>\n",
              "    .dataframe tbody tr th:only-of-type {\n",
              "        vertical-align: middle;\n",
              "    }\n",
              "\n",
              "    .dataframe tbody tr th {\n",
              "        vertical-align: top;\n",
              "    }\n",
              "\n",
              "    .dataframe thead th {\n",
              "        text-align: right;\n",
              "    }\n",
              "</style>\n",
              "<table border=\"1\" class=\"dataframe\">\n",
              "  <thead>\n",
              "    <tr style=\"text-align: right;\">\n",
              "      <th></th>\n",
              "      <th>type</th>\n",
              "      <th>title</th>\n",
              "      <th>director</th>\n",
              "      <th>cast</th>\n",
              "      <th>country</th>\n",
              "      <th>release_year</th>\n",
              "      <th>rating</th>\n",
              "      <th>duration</th>\n",
              "      <th>listed_in</th>\n",
              "      <th>description</th>\n",
              "      <th>year_added</th>\n",
              "    </tr>\n",
              "  </thead>\n",
              "  <tbody>\n",
              "    <tr>\n",
              "      <th>4086</th>\n",
              "      <td>TV Show</td>\n",
              "      <td>Mighty Little Bheem: Kite Festival</td>\n",
              "      <td>NaN</td>\n",
              "      <td>Sumruddhi Shukla, Aranya Kaur, Nishka Raheja</td>\n",
              "      <td>India</td>\n",
              "      <td>2021</td>\n",
              "      <td>TV-Y</td>\n",
              "      <td>1 Season</td>\n",
              "      <td>Kids' TV, TV Comedies</td>\n",
              "      <td>With winter behind them, Bheem and his townspe...</td>\n",
              "      <td>2021</td>\n",
              "    </tr>\n",
              "    <tr>\n",
              "      <th>5399</th>\n",
              "      <td>Movie</td>\n",
              "      <td>Sat Shri Akaal England</td>\n",
              "      <td>Vikram Pradhan</td>\n",
              "      <td>Ammy Virk, Monica Gill, Karamjit Anmol, Sardar...</td>\n",
              "      <td>India</td>\n",
              "      <td>2017</td>\n",
              "      <td>TV-14</td>\n",
              "      <td>127 min</td>\n",
              "      <td>Comedies, Dramas, International Movies</td>\n",
              "      <td>After several failed attempts to obtain a visa...</td>\n",
              "      <td>2018</td>\n",
              "    </tr>\n",
              "    <tr>\n",
              "      <th>5093</th>\n",
              "      <td>Movie</td>\n",
              "      <td>Ramji Londonwaley</td>\n",
              "      <td>Sanjay Dayma</td>\n",
              "      <td>Madhavan, Samita Bangargi, Harsh Chhaya, Rajen...</td>\n",
              "      <td>India</td>\n",
              "      <td>2005</td>\n",
              "      <td>TV-14</td>\n",
              "      <td>154 min</td>\n",
              "      <td>Comedies, Dramas, International Movies</td>\n",
              "      <td>A small-town cook moves to London to earn a li...</td>\n",
              "      <td>2019</td>\n",
              "    </tr>\n",
              "    <tr>\n",
              "      <th>4751</th>\n",
              "      <td>Movie</td>\n",
              "      <td>Pandigai</td>\n",
              "      <td>Feroz</td>\n",
              "      <td>Kreshna, Anandhi, Saravanan, Madhusudhanan, Bl...</td>\n",
              "      <td>India</td>\n",
              "      <td>2017</td>\n",
              "      <td>TV-MA</td>\n",
              "      <td>125 min</td>\n",
              "      <td>Action &amp; Adventure, Dramas, International Movies</td>\n",
              "      <td>Looking for a way out of his impoverished life...</td>\n",
              "      <td>2019</td>\n",
              "    </tr>\n",
              "    <tr>\n",
              "      <th>2837</th>\n",
              "      <td>Movie</td>\n",
              "      <td>How It Ends</td>\n",
              "      <td>David M. Rosenthal</td>\n",
              "      <td>Theo James, Forest Whitaker, Kat Graham, Nicol...</td>\n",
              "      <td>United States</td>\n",
              "      <td>2018</td>\n",
              "      <td>TV-MA</td>\n",
              "      <td>113 min</td>\n",
              "      <td>Action &amp; Adventure, Sci-Fi &amp; Fantasy</td>\n",
              "      <td>When a mysterious disaster turns the country i...</td>\n",
              "      <td>2018</td>\n",
              "    </tr>\n",
              "    <tr>\n",
              "      <th>239</th>\n",
              "      <td>TV Show</td>\n",
              "      <td>A Thousand Goodnights</td>\n",
              "      <td>NaN</td>\n",
              "      <td>Cindy Lien, Nicholas Teo, Yao Ai-ning, Li Chun...</td>\n",
              "      <td>Taiwan</td>\n",
              "      <td>2019</td>\n",
              "      <td>TV-14</td>\n",
              "      <td>1 Season</td>\n",
              "      <td>International TV Shows, TV Dramas</td>\n",
              "      <td>To carry out her dad's wish and discover her r...</td>\n",
              "      <td>2019</td>\n",
              "    </tr>\n",
              "    <tr>\n",
              "      <th>5847</th>\n",
              "      <td>Movie</td>\n",
              "      <td>Strike a Pose</td>\n",
              "      <td>Ester Gould, Reijer Zwaan</td>\n",
              "      <td>NaN</td>\n",
              "      <td>Netherlands, Belgium</td>\n",
              "      <td>2016</td>\n",
              "      <td>TV-MA</td>\n",
              "      <td>85 min</td>\n",
              "      <td>Documentaries, International Movies, LGBTQ Movies</td>\n",
              "      <td>A quarter-century later, this documentary relo...</td>\n",
              "      <td>2017</td>\n",
              "    </tr>\n",
              "    <tr>\n",
              "      <th>7449</th>\n",
              "      <td>Movie</td>\n",
              "      <td>W.E.</td>\n",
              "      <td>Madonna</td>\n",
              "      <td>Abbie Cornish, Andrea Riseborough, James D'Arc...</td>\n",
              "      <td>United Kingdom</td>\n",
              "      <td>2011</td>\n",
              "      <td>R</td>\n",
              "      <td>119 min</td>\n",
              "      <td>Dramas, Romantic Movies</td>\n",
              "      <td>This glossy ensemble drama juxtaposes the live...</td>\n",
              "      <td>2020</td>\n",
              "    </tr>\n",
              "    <tr>\n",
              "      <th>4096</th>\n",
              "      <td>Movie</td>\n",
              "      <td>Milada</td>\n",
              "      <td>David Mrnka</td>\n",
              "      <td>Ayelet Zurer, Robert Gant, Vica Kerekes, Aňa G...</td>\n",
              "      <td>Czech Republic, United States</td>\n",
              "      <td>2017</td>\n",
              "      <td>TV-14</td>\n",
              "      <td>124 min</td>\n",
              "      <td>Dramas, International Movies</td>\n",
              "      <td>Politician and human rights campaigner Milada ...</td>\n",
              "      <td>2018</td>\n",
              "    </tr>\n",
              "    <tr>\n",
              "      <th>7433</th>\n",
              "      <td>Movie</td>\n",
              "      <td>Virunga</td>\n",
              "      <td>Orlando von Einsiedel</td>\n",
              "      <td>NaN</td>\n",
              "      <td>United Kingdom,</td>\n",
              "      <td>2014</td>\n",
              "      <td>TV-MA</td>\n",
              "      <td>100 min</td>\n",
              "      <td>Documentaries, International Movies</td>\n",
              "      <td>The Oscar-nominated true story of the rangers ...</td>\n",
              "      <td>2014</td>\n",
              "    </tr>\n",
              "  </tbody>\n",
              "</table>\n",
              "</div>"
            ],
            "text/plain": [
              "         type  ... year_added\n",
              "4086  TV Show  ...       2021\n",
              "5399    Movie  ...       2018\n",
              "5093    Movie  ...       2019\n",
              "4751    Movie  ...       2019\n",
              "2837    Movie  ...       2018\n",
              "239   TV Show  ...       2019\n",
              "5847    Movie  ...       2017\n",
              "7449    Movie  ...       2020\n",
              "4096    Movie  ...       2018\n",
              "7433    Movie  ...       2014\n",
              "\n",
              "[10 rows x 11 columns]"
            ]
          },
          "metadata": {
            "tags": []
          },
          "execution_count": 25
        }
      ]
    },
    {
      "cell_type": "markdown",
      "metadata": {
        "id": "lPk1CTTdY368"
      },
      "source": [
        "**We can seperate our data into two data set (Movie) and (TV Show) to make our\n",
        "exploring easier**"
      ]
    },
    {
      "cell_type": "code",
      "metadata": {
        "colab": {
          "base_uri": "https://localhost:8080/"
        },
        "id": "1hKkvrhPX3S7",
        "outputId": "2ed35204-614b-45f6-b7e5-b974df5532d6"
      },
      "source": [
        "type_counts = df.type.value_counts()\n",
        "type_counts"
      ],
      "execution_count": 29,
      "outputs": [
        {
          "output_type": "execute_result",
          "data": {
            "text/plain": [
              "Movie      5377\n",
              "TV Show    2400\n",
              "Name: type, dtype: int64"
            ]
          },
          "metadata": {
            "tags": []
          },
          "execution_count": 29
        }
      ]
    },
    {
      "cell_type": "code",
      "metadata": {
        "id": "ITgDI3aXY3Dk"
      },
      "source": [
        "df_movies = df.query('type == \"Movie\"')"
      ],
      "execution_count": 30,
      "outputs": []
    },
    {
      "cell_type": "code",
      "metadata": {
        "id": "ripye8N2Ys61"
      },
      "source": [
        "df_shows = df.query('type == \"TV Show\"')"
      ],
      "execution_count": 31,
      "outputs": []
    },
    {
      "cell_type": "code",
      "metadata": {
        "colab": {
          "base_uri": "https://localhost:8080/",
          "height": 315
        },
        "id": "EeZqvpny3fuB",
        "outputId": "c0759f68-bec8-4655-97e5-2484e4f2441e"
      },
      "source": [
        "type_counts.plot(kind='bar')"
      ],
      "execution_count": 32,
      "outputs": [
        {
          "output_type": "execute_result",
          "data": {
            "text/plain": [
              "<matplotlib.axes._subplots.AxesSubplot at 0x7f4243ddb9d0>"
            ]
          },
          "metadata": {
            "tags": []
          },
          "execution_count": 32
        },
        {
          "output_type": "display_data",
          "data": {
            "image/png": "[encoded data removed]",
            "text/plain": [
              "<Figure size 432x288 with 1 Axes>"
            ]
          },
          "metadata": {
            "tags": [],
            "needs_background": "light"
          }
        }
      ]
    },
    {
      "cell_type": "code",
      "metadata": {
        "colab": {
          "base_uri": "https://localhost:8080/",
          "height": 265
        },
        "id": "XT0-jjBR5cvn",
        "outputId": "145b27bc-e240-4a2f-da8e-aa1910bfd653"
      },
      "source": [
        "type_counts.plot.pie(figsize=(4,4))"
      ],
      "execution_count": 34,
      "outputs": [
        {
          "output_type": "execute_result",
          "data": {
            "text/plain": [
              "<matplotlib.axes._subplots.AxesSubplot at 0x7f42437262d0>"
            ]
          },
          "metadata": {
            "tags": []
          },
          "execution_count": 34
        },
        {
          "output_type": "display_data",
          "data": {
            "image/png": "[encoded data removed]",
            "text/plain": [
              "<Figure size 288x288 with 1 Axes>"
            ]
          },
          "metadata": {
            "tags": []
          }
        }
      ]
    },
    {
      "cell_type": "code",
      "metadata": {
        "colab": {
          "base_uri": "https://localhost:8080/"
        },
        "id": "VgdFDUkS5EIu",
        "outputId": "f3465355-3029-4bc1-fe6e-44f402a3dff7"
      },
      "source": [
        "df_movies.country.value_counts()"
      ],
      "execution_count": 33,
      "outputs": [
        {
          "output_type": "execute_result",
          "data": {
            "text/plain": [
              "United States                     1850\n",
              "India                              852\n",
              "United Kingdom                     193\n",
              "Canada                             118\n",
              "Spain                               89\n",
              "                                  ... \n",
              "Peru, Germany, Norway                1\n",
              "Italy, Belgium                       1\n",
              "Germany, United States, France       1\n",
              "Germany, Sri Lanka                   1\n",
              "United Kingdom, Israel, Russia       1\n",
              "Name: country, Length: 590, dtype: int64"
            ]
          },
          "metadata": {
            "tags": []
          },
          "execution_count": 33
        }
      ]
    },
    {
      "cell_type": "code",
      "metadata": {
        "colab": {
          "base_uri": "https://localhost:8080/"
        },
        "id": "WU1BqZCe5Wn4",
        "outputId": "18765f27-3420-4b99-a900-8e273519d32e"
      },
      "source": [
        "df_shows.country.value_counts()"
      ],
      "execution_count": 35,
      "outputs": [
        {
          "output_type": "execute_result",
          "data": {
            "text/plain": [
              "United States                              699\n",
              "United Kingdom                             203\n",
              "Japan                                      156\n",
              "South Korea                                147\n",
              "India                                       71\n",
              "                                          ... \n",
              "Belgium, Netherlands                         1\n",
              "Spain, United Kingdom                        1\n",
              "Croatia                                      1\n",
              "United Kingdom, Singapore                    1\n",
              "United States, Hungary, Ireland, Canada      1\n",
              "Name: country, Length: 183, dtype: int64"
            ]
          },
          "metadata": {
            "tags": []
          },
          "execution_count": 35
        }
      ]
    },
    {
      "cell_type": "code",
      "metadata": {
        "id": "pLWnqogJ6G7O"
      },
      "source": [
        "movie_directors = df_movies.director.value_counts()"
      ],
      "execution_count": 38,
      "outputs": []
    },
    {
      "cell_type": "code",
      "metadata": {
        "colab": {
          "base_uri": "https://localhost:8080/",
          "height": 300
        },
        "id": "tIl-X--Q7ZIq",
        "outputId": "1804c408-cb1f-4209-b36c-6a80e3f9b3d7"
      },
      "source": [
        "movie_directors.head().plot(kind='barh')\n",
        "plt.xlabel(\"Director's Name\", fontsize=15)\n",
        "plt.ylabel(\"Frequency\", fontsize=15)\n",
        "plt.title(\"Top Five movie Directors\")\n",
        "for index, value in enumerate(movie_directors.head()):\n",
        "  plt.text(value, index, str(value))"
      ],
      "execution_count": 47,
      "outputs": [
        {
          "output_type": "display_data",
          "data": {
            "image/png": "[encoded data removed]",
            "text/plain": [
              "<Figure size 432x288 with 1 Axes>"
            ]
          },
          "metadata": {
            "tags": [],
            "needs_background": "light"
          }
        }
      ]
    },
    {
      "cell_type": "code",
      "metadata": {
        "id": "OgDFN1Nm62pr"
      },
      "source": [
        "show_directors = df_shows.director.value_counts()"
      ],
      "execution_count": 39,
      "outputs": []
    },
    {
      "cell_type": "code",
      "metadata": {
        "colab": {
          "base_uri": "https://localhost:8080/",
          "height": 300
        },
        "id": "kxQFoOnL8Pah",
        "outputId": "9b9eb272-0948-4a0a-bfa1-83c4f427d997"
      },
      "source": [
        "show_directors.head().plot(kind='barh')\n",
        "plt.xlabel(\"Director's Name\", fontsize=15)\n",
        "plt.ylabel(\"Frequency\", fontsize=15)\n",
        "plt.title(\"Top Five show Directors\")\n",
        "for index, value in enumerate(show_directors.head()):\n",
        "  plt.text(value, index, str(value))"
      ],
      "execution_count": 46,
      "outputs": [
        {
          "output_type": "display_data",
          "data": {
            "image/png": "[encoded data removed]",
            "text/plain": [
              "<Figure size 432x288 with 1 Axes>"
            ]
          },
          "metadata": {
            "tags": [],
            "needs_background": "light"
          }
        }
      ]
    },
    {
      "cell_type": "code",
      "metadata": {
        "colab": {
          "base_uri": "https://localhost:8080/",
          "height": 300
        },
        "id": "V2w14Nn86oSw",
        "outputId": "2fbbae52-c0d7-4649-e2b6-fa8dd1275e5e"
      },
      "source": [
        "movie_ratings_count = df_movies.rating.value_counts()\n",
        "\n",
        "movie_ratings_count.plot(kind='barh')\n",
        "plt.xlabel(\"Movie Rating\", fontsize=15)\n",
        "plt.ylabel(\"Frequency\", fontsize=15)\n",
        "plt.title(\"All Movie Ratings\")\n",
        "for index, value in enumerate(movie_ratings_count):\n",
        "  plt.text(value, index, str(value))"
      ],
      "execution_count": 49,
      "outputs": [
        {
          "output_type": "display_data",
          "data": {
            "image/png": "[encoded data removed]",
            "text/plain": [
              "<Figure size 432x288 with 1 Axes>"
            ]
          },
          "metadata": {
            "tags": [],
            "needs_background": "light"
          }
        }
      ]
    },
    {
      "cell_type": "code",
      "metadata": {
        "colab": {
          "base_uri": "https://localhost:8080/",
          "height": 300
        },
        "id": "whOIn5lT_EiV",
        "outputId": "2359db77-1e88-4f27-997c-afaed41a65dc"
      },
      "source": [
        "show_ratings_count = df_shows.rating.value_counts()\n",
        "\n",
        "show_ratings_count.plot(kind='barh')\n",
        "plt.xlabel(\"Show Rating\", fontsize=15)\n",
        "plt.ylabel(\"Frequency\", fontsize=15)\n",
        "plt.title(\"All Show Ratings\")\n",
        "for index, value in enumerate(show_ratings_count):\n",
        "  plt.text(value, index, str(value))"
      ],
      "execution_count": 50,
      "outputs": [
        {
          "output_type": "display_data",
          "data": {
            "image/png": "[encoded data removed]",
            "text/plain": [
              "<Figure size 432x288 with 1 Axes>"
            ]
          },
          "metadata": {
            "tags": [],
            "needs_background": "light"
          }
        }
      ]
    },
    {
      "cell_type": "code",
      "metadata": {
        "id": "t8ZcBonk_7nm"
      },
      "source": [
        ""
      ],
      "execution_count": null,
      "outputs": []
    }
  ]
}